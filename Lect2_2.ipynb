{
 "cells": [
  {
   "cell_type": "markdown",
   "metadata": {},
   "source": [
    "# Physics 404/604\n",
    "\n",
    "## Computational Physics (Spring 2024)\n",
    "\n",
    "## BPB-250\n",
    "\n",
    "| Instructor | Prof. Zhaohuan Zhu                 |\n",
    "| ---------- | :--------------------------------- |\n",
    "| Email      | zhaohuan.zhu@unlv.edu              |\n",
    "| Website    | http://www.physics.unlv.edu/~zhzhu |\n",
    "| Office     | BPB 245                            |\n",
    "\n",
    "\n",
    "\n",
    "\n",
    "\n",
    "\n"
   ]
  },
  {
   "cell_type": "markdown",
   "metadata": {},
   "source": [
    "\n",
    "# 1. Programing Style: Efficient Algorithm\n",
    "\n",
    "\n",
    "## 1.1 Programming guide\n",
    "* Give the correct answers\n",
    "* clear and easy to read (including documenting itself)\n",
    "* easy to use\n",
    "* built up out of small programs that can be tested individually easy to modify and robust  \n",
    "* Try to use efficient algorithm\n",
    "\n",
    "\n"
   ]
  },
  {
   "cell_type": "markdown",
   "metadata": {},
   "source": [
    "## 1.2 Efficient ways to calculate Fibonacci numbers\n",
    "\n",
    "Fibonacci number\n",
    "The number series: 0, 1, 1, 2, 3, 5, 8, 13, 21, 34, … \n",
    "\\begin{equation}\n",
    "F_{n}=F_{n-1}+F_{n-2}\n",
    "\\end{equation}\n",
    "What is $F_{n}$?\n"
   ]
  },
  {
   "cell_type": "markdown",
   "metadata": {},
   "source": [
    "**Dynamic Programming:  \n",
    "An algorithmic paradigm that solves a complex problem by breaking it into subproblems and stores the results of subproblems to avoid computing the same results again.**\n",
    "\n",
    "## 1.3.1 Recursion method:\n",
    "\n",
    "Recursion in computer science is a method of solving a problem where the solution depends on solutions to smaller instances of the same problem.\n",
    "\n",
    "Most computer programming languages support recursion by allowing a function to call itself from within its own code. "
   ]
  },
  {
   "cell_type": "code",
   "execution_count": 1,
   "metadata": {},
   "outputs": [],
   "source": [
    "# Recursion method fib2, \n",
    "def fib2(n):      # extremely simple, but exponentially running time, very slow for large n, n cannot too large (stack limit)\n",
    "    if n == 0: return 0\n",
    "    elif n == 1: return 1\n",
    "    else: return fib2(n-1)+fib2(n-2)"
   ]
  },
  {
   "cell_type": "code",
   "execution_count": 2,
   "metadata": {},
   "outputs": [
    {
     "name": "stdout",
     "output_type": "stream",
     "text": [
<<<<<<< HEAD
      "102334155\n",
      "--- 28.972163915634155 seconds ---\n"
=======
      "55\n",
      "--- 0.0006117820739746094 seconds ---\n"
>>>>>>> upstream/main
     ]
    }
   ],
   "source": [
    "import time\n",
    "start_time = time.time()\n",
    "print(fib2(10))\n",
    "print(\"--- %s seconds ---\" % (time.time() - start_time))"
   ]
  },
  {
   "cell_type": "markdown",
   "metadata": {},
   "source": [
    "## (Optional) 1.3.2 Memoization method (Top down):\n",
    "\n",
    "an optimization technique used primarily to speed up computer programs by storing the results of expensive function calls and returning the cached result when the same inputs occur again.\n",
    "\n",
    "turning [the results of] a function into something to be remembered"
   ]
  },
  {
   "cell_type": "code",
   "execution_count": 3,
   "metadata": {},
   "outputs": [],
   "source": [
    "# if we have defined an array table = [None]*(n+1)\n",
    "\n",
    "def fib3(n, table): # Store the data we already calculated, linear space and time complexity, but still have the stack limit\n",
    "    if n == 0 or n==1:\n",
    "        table[n]=n\n",
    "    \n",
    "    # if the value has not been calculated, calculate it \n",
    "    if table[n] is None:\n",
    "        table[n] = fib3(n-1, table) + fib3(n-2,table) \n",
    "        \n",
    "    return table[n]"
   ]
  },
  {
   "cell_type": "code",
   "execution_count": 2,
   "metadata": {},
   "outputs": [
    {
     "name": "stdout",
     "output_type": "stream",
     "text": [
      "55\n",
      "--- 0.0004718303680419922 seconds ---\n",
      "102334155\n",
      "--- 0.00061798095703125 seconds ---\n",
      "17108476902340227241249719513231821477382749898026920041550883749834348017250935801359315038923367841494936038231522506358371361016671790887791259870264957823133253627917432203111969704623229384763490617075388642696139893354058660570399927047816296952516330636633851111646387885472698683607925\n",
      "--- 0.008594989776611328 seconds ---\n"
     ]
    },
    {
     "ename": "RecursionError",
     "evalue": "maximum recursion depth exceeded in comparison",
     "output_type": "error",
     "traceback": [
      "\u001b[0;31m---------------------------------------------------------------------------\u001b[0m",
      "\u001b[0;31mRecursionError\u001b[0m                            Traceback (most recent call last)",
      "\u001b[0;32m<ipython-input-2-74e3e458f16f>\u001b[0m in \u001b[0;36m<module>\u001b[0;34m()\u001b[0m\n\u001b[1;32m     25\u001b[0m \u001b[0mtable\u001b[0m \u001b[0;34m=\u001b[0m \u001b[0;34m[\u001b[0m\u001b[0;32mNone\u001b[0m\u001b[0;34m]\u001b[0m\u001b[0;34m*\u001b[0m\u001b[0;34m(\u001b[0m\u001b[0mn\u001b[0m\u001b[0;34m+\u001b[0m\u001b[0;36m1\u001b[0m\u001b[0;34m)\u001b[0m\u001b[0;34m\u001b[0m\u001b[0;34m\u001b[0m\u001b[0m\n\u001b[1;32m     26\u001b[0m \u001b[0mstart_time\u001b[0m \u001b[0;34m=\u001b[0m \u001b[0mtime\u001b[0m\u001b[0;34m.\u001b[0m\u001b[0mtime\u001b[0m\u001b[0;34m(\u001b[0m\u001b[0;34m)\u001b[0m\u001b[0;34m\u001b[0m\u001b[0;34m\u001b[0m\u001b[0m\n\u001b[0;32m---> 27\u001b[0;31m \u001b[0mprint\u001b[0m\u001b[0;34m(\u001b[0m\u001b[0mfib3\u001b[0m\u001b[0;34m(\u001b[0m\u001b[0mn\u001b[0m\u001b[0;34m,\u001b[0m \u001b[0mtable\u001b[0m\u001b[0;34m)\u001b[0m\u001b[0;34m)\u001b[0m\u001b[0;34m\u001b[0m\u001b[0;34m\u001b[0m\u001b[0m\n\u001b[0m\u001b[1;32m     28\u001b[0m \u001b[0mprint\u001b[0m\u001b[0;34m(\u001b[0m\u001b[0;34m\"--- %s seconds ---\"\u001b[0m \u001b[0;34m%\u001b[0m \u001b[0;34m(\u001b[0m\u001b[0mtime\u001b[0m\u001b[0;34m.\u001b[0m\u001b[0mtime\u001b[0m\u001b[0;34m(\u001b[0m\u001b[0;34m)\u001b[0m \u001b[0;34m-\u001b[0m \u001b[0mstart_time\u001b[0m\u001b[0;34m)\u001b[0m\u001b[0;34m)\u001b[0m\u001b[0;34m\u001b[0m\u001b[0;34m\u001b[0m\u001b[0m\n\u001b[1;32m     29\u001b[0m \u001b[0;34m\u001b[0m\u001b[0m\n",
      "\u001b[0;32m<ipython-input-1-4a5bda742ca8>\u001b[0m in \u001b[0;36mfib3\u001b[0;34m(n, table)\u001b[0m\n\u001b[1;32m      7\u001b[0m     \u001b[0;31m# if the value has not been calculated, calculate it\u001b[0m\u001b[0;34m\u001b[0m\u001b[0;34m\u001b[0m\u001b[0;34m\u001b[0m\u001b[0m\n\u001b[1;32m      8\u001b[0m     \u001b[0;32mif\u001b[0m \u001b[0mtable\u001b[0m\u001b[0;34m[\u001b[0m\u001b[0mn\u001b[0m\u001b[0;34m]\u001b[0m \u001b[0;32mis\u001b[0m \u001b[0;32mNone\u001b[0m\u001b[0;34m:\u001b[0m\u001b[0;34m\u001b[0m\u001b[0;34m\u001b[0m\u001b[0m\n\u001b[0;32m----> 9\u001b[0;31m         \u001b[0mtable\u001b[0m\u001b[0;34m[\u001b[0m\u001b[0mn\u001b[0m\u001b[0;34m]\u001b[0m \u001b[0;34m=\u001b[0m \u001b[0mfib3\u001b[0m\u001b[0;34m(\u001b[0m\u001b[0mn\u001b[0m\u001b[0;34m-\u001b[0m\u001b[0;36m1\u001b[0m\u001b[0;34m,\u001b[0m \u001b[0mtable\u001b[0m\u001b[0;34m)\u001b[0m \u001b[0;34m+\u001b[0m \u001b[0mfib3\u001b[0m\u001b[0;34m(\u001b[0m\u001b[0mn\u001b[0m\u001b[0;34m-\u001b[0m\u001b[0;36m2\u001b[0m\u001b[0;34m,\u001b[0m\u001b[0mtable\u001b[0m\u001b[0;34m)\u001b[0m \u001b[0;31m# try this:  please finish this line using recursive method\u001b[0m\u001b[0;34m\u001b[0m\u001b[0;34m\u001b[0m\u001b[0m\n\u001b[0m\u001b[1;32m     10\u001b[0m \u001b[0;34m\u001b[0m\u001b[0m\n\u001b[1;32m     11\u001b[0m     \u001b[0;32mreturn\u001b[0m \u001b[0mtable\u001b[0m\u001b[0;34m[\u001b[0m\u001b[0mn\u001b[0m\u001b[0;34m]\u001b[0m\u001b[0;34m\u001b[0m\u001b[0;34m\u001b[0m\u001b[0m\n",
      "... last 1 frames repeated, from the frame below ...\n",
      "\u001b[0;32m<ipython-input-1-4a5bda742ca8>\u001b[0m in \u001b[0;36mfib3\u001b[0;34m(n, table)\u001b[0m\n\u001b[1;32m      7\u001b[0m     \u001b[0;31m# if the value has not been calculated, calculate it\u001b[0m\u001b[0;34m\u001b[0m\u001b[0;34m\u001b[0m\u001b[0;34m\u001b[0m\u001b[0m\n\u001b[1;32m      8\u001b[0m     \u001b[0;32mif\u001b[0m \u001b[0mtable\u001b[0m\u001b[0;34m[\u001b[0m\u001b[0mn\u001b[0m\u001b[0;34m]\u001b[0m \u001b[0;32mis\u001b[0m \u001b[0;32mNone\u001b[0m\u001b[0;34m:\u001b[0m\u001b[0;34m\u001b[0m\u001b[0;34m\u001b[0m\u001b[0m\n\u001b[0;32m----> 9\u001b[0;31m         \u001b[0mtable\u001b[0m\u001b[0;34m[\u001b[0m\u001b[0mn\u001b[0m\u001b[0;34m]\u001b[0m \u001b[0;34m=\u001b[0m \u001b[0mfib3\u001b[0m\u001b[0;34m(\u001b[0m\u001b[0mn\u001b[0m\u001b[0;34m-\u001b[0m\u001b[0;36m1\u001b[0m\u001b[0;34m,\u001b[0m \u001b[0mtable\u001b[0m\u001b[0;34m)\u001b[0m \u001b[0;34m+\u001b[0m \u001b[0mfib3\u001b[0m\u001b[0;34m(\u001b[0m\u001b[0mn\u001b[0m\u001b[0;34m-\u001b[0m\u001b[0;36m2\u001b[0m\u001b[0;34m,\u001b[0m\u001b[0mtable\u001b[0m\u001b[0;34m)\u001b[0m \u001b[0;31m# try this:  please finish this line using recursive method\u001b[0m\u001b[0;34m\u001b[0m\u001b[0;34m\u001b[0m\u001b[0m\n\u001b[0m\u001b[1;32m     10\u001b[0m \u001b[0;34m\u001b[0m\u001b[0m\n\u001b[1;32m     11\u001b[0m     \u001b[0;32mreturn\u001b[0m \u001b[0mtable\u001b[0m\u001b[0;34m[\u001b[0m\u001b[0mn\u001b[0m\u001b[0;34m]\u001b[0m\u001b[0;34m\u001b[0m\u001b[0;34m\u001b[0m\u001b[0m\n",
      "\u001b[0;31mRecursionError\u001b[0m: maximum recursion depth exceeded in comparison"
     ]
    }
   ],
   "source": [
    "import time\n",
    "n=10\n",
    "table = [None]*(n+1)\n",
    "start_time = time.time()\n",
    "print(fib3(n, table))\n",
    "print(\"--- %s seconds ---\" % (time.time() - start_time))\n",
    "\n",
    "# try this: Please calculate time if n=40, 1400, 14000\n",
    "\n",
    "n=40\n",
    "table = [None]*(n+1)\n",
    "start_time = time.time()\n",
    "print(fib3(n, table))\n",
    "print(\"--- %s seconds ---\" % (time.time() - start_time))\n",
    "\n",
    "\n",
    "n=1400\n",
    "table = [None]*(n+1)\n",
    "start_time = time.time()\n",
    "print(fib3(n, table))\n",
    "print(\"--- %s seconds ---\" % (time.time() - start_time))\n",
    "\n",
    "\n",
    "n=14000\n",
    "table = [None]*(n+1)\n",
    "start_time = time.time()\n",
    "print(fib3(n, table))\n",
    "print(\"--- %s seconds ---\" % (time.time() - start_time))\n",
    "\n",
    "# In programming, the call stack is a buffer that stores requests that need to be handled."
   ]
  },
  {
   "cell_type": "markdown",
   "metadata": {},
   "source": [
    "## 1.3.2  Tabulation Method (bottom-up)\n",
    "Calculate all the values from small to big"
   ]
  },
  {
   "cell_type": "code",
   "execution_count": 2,
   "metadata": {},
   "outputs": [],
   "source": [
    "# calculate numbers one by one from table[2] to table[n]\n",
    "\n",
    "def fib4(n):\n",
    "    table=[0]*(n+1)\n",
    "    table[1] = 1\n",
    "       \n",
    "    # try this: please finish the following two lines calcuating table[i] from table[i-1] and table[i-2]\n",
    "    for i in range(2,n+1):\n",
    "        table[i]=table[i-1] + table[i-2]\n",
    "        \n",
    "    return table[n]"
   ]
  },
  {
   "cell_type": "code",
   "execution_count": 3,
   "metadata": {},
   "outputs": [
    {
     "name": "stdout",
     "output_type": "stream",
     "text": [
      "55\n",
      "--- 0.0003571510314941406 seconds ---\n"
     ]
    }
   ],
   "source": [
    "import time\n",
    "start_time = time.time()\n",
    "print(fib4(10))\n",
    "print(\"--- %s seconds ---\" % (time.time() - start_time))\n",
    "# start_time = time.time()\n",
    "# print(fib4(1400))\n",
    "# print(\"--- %s seconds ---\" % (time.time() - start_time))\n",
    "# start_time = time.time()\n",
    "# print(fib4(14000)) \n",
    "# print(\"--- %s seconds ---\" % (time.time() - start_time))"
   ]
  },
  {
   "cell_type": "code",
   "execution_count": 30,
   "metadata": {},
   "outputs": [],
   "source": [
    "def fib4(n):\n",
    "    f0 = 1\n",
    "    f1 = 1\n",
    "    if n == 0:\n",
    "        return f0\n",
    "    elif n == 1: \n",
    "        return f1\n",
    "    else:\n",
    "        for i in range(2,n+1):\n",
    "            result = f0+f1\n",
    "            f0 = f1\n",
    "            f1 = result\n",
    "        return result"
   ]
  },
  {
   "cell_type": "code",
   "execution_count": 31,
   "metadata": {},
   "outputs": [
    {
     "name": "stdout",
     "output_type": "stream",
     "text": [
      "165580141\n",
      "--- 0.00061798095703125 seconds ---\n",
      "27682097123729003105677626449505746191732174241149462650923690069660131404640833946850969379619575819465246124164576690629246144675379393573106211382631761722558988596174542778374560842981861789646519389087106627252306193512024601313327314953992743800841043870569935864482663072626507327493026\n",
      "--- 0.0003209114074707031 seconds ---\n",
      "4858096505746540834669206297472292420409172861639116503357513103049560097558438348664453598807101433874297063226462187783166538077547605967284008988293848006150288589587823786589279829008115829579558121222663099651584573334479546503829984776327823392485196034638272895756104660209842850470776484698065702174502720887120182868857873139470828664655624237738166603379742918452607342727518553009505642120217488423893531953722144425174044801588982821709426903591489129982974336878570793301876942910171887945396548726023884013224750308535438355233309068988955633992033601936117306442414416535877311336851244547666877218259582579955447437000566462932694386019459496185886817326983450412747217115459912023009767244431641046698207532329438010431684650296811232205943507120544752752110123088639792039995635603001342611400667735134667187088077777871462963722361428543343922025291160130160190712619500316418481930589608452960085518819762644015348358480728388520307156197148357966264696817921654921589454779915388900527380437378602350345628609165148085177707752213527179851987068887864718129911055144698908016597857389144160810687632924733042581354597438728101686808700398103823385427556082663140588234476755418588777960086318712904489660139565605079094462467386198592058609840263497360628837132308681956335967228546185869314900134419091409412592762434817388478323374911655348492904203227472896656040227172888266735958626271177812967911647168864700673563211502047503424106138828690620804202020333734369620009235852808188747931437655851190040065703958910377498669468158446522030459024387605491247983146707299905167926753236690844020155100508178623127916597510026022791189039951675331998707092377750951454819855528794628985172037914041904113329014859301748963308036483097633607855810056595763677801221710102116195848351062323041800083761942036549989650856448646901585245231249771814914989902645515152967800671095778591975659894320022975580952048912915245523630483686696093465387477682972610202519003209909332665096499064920180805195774109269863240166253802403069683351574579322277259952880092924693624646211457208043860830849873065954631133019680397959795464658720565104183949052797040991416746673769131132776824835271847892318642669191108587760349028529409789970320680918818313494949656059902765232179631683168764044153650972227415064115398480442684641844277955187607898097618953073584248721387908087832431599710188630892619906284616402234964195973631531462300773515235945209255413480138906104001379509410994471611034938284409454681341759864851676471602986354186467927916852001599906721983327141941024143451921402326734559853463251996789428316190765417093104405535550807329547144167790548003758344667925925843024775957733870930729197259868232242881472453900606760197049722063742446282256894102356016045884348921450428277052236430847850956651011114046248945659260735829419984675398528529284207117172648391000282244098610236070480814267414626\n",
      "--- 0.007731199264526367 seconds ---\n"
     ]
    }
   ],
   "source": [
    "import time\n",
    "start_time = time.time()\n",
    "print(fib4(40))\n",
    "print(\"--- %s seconds ---\" % (time.time() - start_time))\n",
    "start_time = time.time()\n",
    "print(fib4(1400))\n",
    "print(\"--- %s seconds ---\" % (time.time() - start_time))\n",
    "start_time = time.time()\n",
    "print(fib4(14000)) \n",
    "print(\"--- %s seconds ---\" % (time.time() - start_time))"
   ]
  },
  {
   "cell_type": "markdown",
   "metadata": {},
   "source": [
    "## 1.3.3 Using Matrix Algebra (Optional)\n",
    "\n",
    "$$\\left[\\begin{array}\n",
    "{rr}\n",
    "1 & 1 \\\\\n",
    "1 & 0 \\\\\n",
    "\\end{array}\\right]^n=\\left[\\begin{array}\n",
    "{rr}\n",
    "F(n+1) & F(n) \\\\\n",
    "F(n) & F(n-1) \\\\\n",
    "\\end{array}\\right]\n",
    "$$\n",
    "\n",
    "To calculate F(100), need $A^{100}$ -> $(A^{50})^2$->$A^{25}$->$A^{12}$->$A^6$->$A^3$->$A^1$"
   ]
  },
  {
   "cell_type": "code",
   "execution_count": 36,
   "metadata": {},
   "outputs": [],
   "source": [
    "def arrpow(arr, n):\n",
    "    yarr=arr\n",
    "    if n<1:\n",
    "        print('n needs to be larger than 1')\n",
    "    if n==1:\n",
    "        return arr\n",
    "    yarr = arrpow(arr, n//2)\n",
    "    yarr = [[yarr[0][0]*yarr[0][0]+yarr[0][1]*yarr[1][0],yarr[0][0]*yarr[0][1]+yarr[0][1]*yarr[1][1]],\n",
    "            [yarr[1][0]*yarr[0][0]+yarr[1][1]*yarr[1][0],yarr[1][0]*yarr[0][1]+yarr[1][1]*yarr[1][1]]]\n",
    "    if n%2:\n",
    "        yarr=[[yarr[0][0]*arr[0][0]+yarr[0][1]*arr[1][0],yarr[0][0]*arr[0][1]+yarr[0][1]*arr[1][1]],\n",
    "            [yarr[1][0]*arr[0][0]+yarr[1][1]*arr[1][0],yarr[1][0]*arr[0][1]+yarr[1][1]*arr[1][1]]]\n",
    "    return yarr\n",
    "\n",
    "def fib5(n):\n",
    "    arr= [[1,1],[1,0]]\n",
    "    f=arrpow(arr,n)[0][0]\n",
    "    return f\n",
    "    \n",
    "\n"
   ]
  },
  {
   "cell_type": "code",
   "execution_count": 37,
   "metadata": {
    "scrolled": true
   },
   "outputs": [
    {
     "name": "stdout",
     "output_type": "stream",
     "text": [
      "2\n",
      "--- 0.0004050731658935547 seconds ---\n",
      "4858096505746540834669206297472292420409172861639116503357513103049560097558438348664453598807101433874297063226462187783166538077547605967284008988293848006150288589587823786589279829008115829579558121222663099651584573334479546503829984776327823392485196034638272895756104660209842850470776484698065702174502720887120182868857873139470828664655624237738166603379742918452607342727518553009505642120217488423893531953722144425174044801588982821709426903591489129982974336878570793301876942910171887945396548726023884013224750308535438355233309068988955633992033601936117306442414416535877311336851244547666877218259582579955447437000566462932694386019459496185886817326983450412747217115459912023009767244431641046698207532329438010431684650296811232205943507120544752752110123088639792039995635603001342611400667735134667187088077777871462963722361428543343922025291160130160190712619500316418481930589608452960085518819762644015348358480728388520307156197148357966264696817921654921589454779915388900527380437378602350345628609165148085177707752213527179851987068887864718129911055144698908016597857389144160810687632924733042581354597438728101686808700398103823385427556082663140588234476755418588777960086318712904489660139565605079094462467386198592058609840263497360628837132308681956335967228546185869314900134419091409412592762434817388478323374911655348492904203227472896656040227172888266735958626271177812967911647168864700673563211502047503424106138828690620804202020333734369620009235852808188747931437655851190040065703958910377498669468158446522030459024387605491247983146707299905167926753236690844020155100508178623127916597510026022791189039951675331998707092377750951454819855528794628985172037914041904113329014859301748963308036483097633607855810056595763677801221710102116195848351062323041800083761942036549989650856448646901585245231249771814914989902645515152967800671095778591975659894320022975580952048912915245523630483686696093465387477682972610202519003209909332665096499064920180805195774109269863240166253802403069683351574579322277259952880092924693624646211457208043860830849873065954631133019680397959795464658720565104183949052797040991416746673769131132776824835271847892318642669191108587760349028529409789970320680918818313494949656059902765232179631683168764044153650972227415064115398480442684641844277955187607898097618953073584248721387908087832431599710188630892619906284616402234964195973631531462300773515235945209255413480138906104001379509410994471611034938284409454681341759864851676471602986354186467927916852001599906721983327141941024143451921402326734559853463251996789428316190765417093104405535550807329547144167790548003758344667925925843024775957733870930729197259868232242881472453900606760197049722063742446282256894102356016045884348921450428277052236430847850956651011114046248945659260735829419984675398528529284207117172648391000282244098610236070480814267414626\n",
      "--- 0.0010080337524414062 seconds ---\n"
     ]
    }
   ],
   "source": [
    "import time\n",
    "start_time = time.time()\n",
    "print(fib5(2))\n",
    "print(\"--- %s seconds ---\" % (time.time() - start_time))\n",
    "import time\n",
    "start_time = time.time()\n",
    "print(fib5(14000)) # 93 overflow\n",
    "print(\"--- %s seconds ---\" % (time.time() - start_time))"
   ]
  },
  {
   "cell_type": "markdown",
   "metadata": {},
   "source": [
    "# 2. the complexity of the algorithms\n",
    "\n",
    "Algorithm complexity is a measure which evaluates the order of the count of operations, performed by a given or algorithm as a function of the size of the input data. To put this simpler, complexity is a rough approximation of the number of steps necessary to execute an algorithm. When we evaluate complexity we speak of order of operation count, not of their exact count. \n",
    "\n",
    "For example if we have an order of $N^2$ operations to process N elements, then $N^2$/2 and 3*$N^2$ are of one and the same quadratic order.\n",
    "\n",
    "Algorithm complexity is commonly represented with the O(f) notation e.g. O($N^2$). We can measure the algorithm complexity by plotting n vs. steps, or n vs. execution time."
   ]
  },
  {
   "cell_type": "code",
   "execution_count": 38,
   "metadata": {},
   "outputs": [
    {
     "name": "stdout",
     "output_type": "stream",
     "text": [
      "1 4.57763671875e-05\n",
      "4 2.3126602172851562e-05\n",
      "7 3.719329833984375e-05\n",
      "10 0.0001380443572998047\n",
      "13 0.0008380413055419922\n",
      "16 0.0025091171264648438\n",
      "19 0.009998798370361328\n",
      "22 0.04517221450805664\n",
      "25 0.15880703926086426\n",
      "28 0.5439901351928711\n",
      "31 2.13358736038208\n",
      "34 9.135421991348267\n",
      "37 43.088083028793335\n",
      "40 179.91288805007935\n"
     ]
    }
   ],
   "source": [
    "import numpy as np\n",
    "n2=np.arange(1,41,3)\n",
    "time2=np.zeros(n2.size)\n",
    "for i in range(n2.size):\n",
    "    start_time = time.time()\n",
    "    temp=fib2(n2[i])\n",
    "    time2[i] = time.time()-start_time\n",
    "    print(n2[i],time2[i])\n"
   ]
  },
  {
   "cell_type": "code",
   "execution_count": 17,
   "metadata": {},
   "outputs": [
    {
     "data": {
      "image/png": "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\n",
      "text/plain": [
       "<Figure size 864x576 with 1 Axes>"
      ]
     },
     "metadata": {
      "needs_background": "light"
     },
     "output_type": "display_data"
    }
   ],
   "source": [
    "import matplotlib.pyplot as plt\n",
    "import math\n",
    "\n",
    "# please make a plot of n2 vs np.log10(time2) and think about how this plot shows that the complexity of fib2 is O(2^N)\n",
    "\n",
    "fig = plt.figure(figsize = (12, 8))\n",
    "plt.plot(n2, time2)\n",
    "plt.semilogy()\n",
    "plt.xlabel(\"n\", fontsize = 15)\n",
    "plt.ylabel(\"time\", fontsize = 15)\n",
    "plt.show()"
   ]
  },
  {
   "cell_type": "code",
   "execution_count": 21,
   "metadata": {},
   "outputs": [],
   "source": [
    "# try this: following the above example to calculate the time when n=n2[0], n2[1]...., and make a plot for log10(time) vs n\n",
    "# for fib4\n",
    "\n",
    "n2=np.arange(100,100000,100)\n",
    "time2=np.zeros(n2.size)\n",
    "\n",
    "for i in range(n2.size):\n",
    "    start_time = time.time()\n",
    "    temp=fib4(n2[i])\n",
    "    time2[i] = time.time()-start_time\n",
    "    #print(n2[i],time2[i])\n"
   ]
  },
  {
   "cell_type": "code",
   "execution_count": 20,
   "metadata": {
    "scrolled": true
   },
   "outputs": [
    {
     "data": {
      "image/png": "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\n",
      "text/plain": [
       "<Figure size 864x576 with 1 Axes>"
      ]
     },
     "metadata": {
      "needs_background": "light"
     },
     "output_type": "display_data"
    }
   ],
   "source": [
    "import matplotlib.pyplot as plt\n",
    "import math\n",
    "\n",
    "# please make a plot of n2 vs np.log10(time2) and think about how this plot shows that the complexity of fib2 is O(2^N)\n",
    "\n",
    "fig = plt.figure(figsize = (12, 8))\n",
    "plt.plot(n2, time2)\n",
    "plt.semilogy()\n",
    "plt.semilogx()\n",
    "plt.xlabel('log10(n)', fontsize = 15)\n",
    "plt.ylabel('log10(time)', fontsize = 15)\n",
    "plt.show()"
   ]
  },
  {
   "cell_type": "markdown",
   "metadata": {},
   "source": [
    "# Homework\n",
    "\n",
    "    a) Use the Recursion method, Tabulation method,  and matrix method to calculate the time spent for different n (e.g. 1, 10, 100, 1000, 10000, … uniform in the log space). (caution: recursion method will break when n>100)\n",
    "\n",
    "    b) plot log(time) (y-axis) vs. log(n) (x-axis) for different methods. \n",
    "       \n",
    "    c) Discuss the complexity of each method.\n",
    "\n",
    "    d) For graduate students who have projects: read the paper, and provide a short summary about your project"
   ]
  },
  {
   "cell_type": "code",
   "execution_count": null,
   "metadata": {},
   "outputs": [],
   "source": []
  },
  {
   "cell_type": "code",
   "execution_count": null,
   "metadata": {},
   "outputs": [],
   "source": []
  }
 ],
 "metadata": {
  "kernelspec": {
   "display_name": "Python 3",
   "language": "python",
   "name": "python3"
  },
  "language_info": {
   "codemirror_mode": {
    "name": "ipython",
    "version": 3
   },
   "file_extension": ".py",
   "mimetype": "text/x-python",
   "name": "python",
   "nbconvert_exporter": "python",
   "pygments_lexer": "ipython3",
   "version": "3.8.3"
  }
 },
 "nbformat": 4,
 "nbformat_minor": 4
}
