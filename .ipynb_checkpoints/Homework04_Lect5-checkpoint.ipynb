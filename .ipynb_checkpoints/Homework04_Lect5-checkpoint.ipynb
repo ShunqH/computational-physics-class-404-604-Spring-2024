{
 "cells": [
  {
   "cell_type": "code",
   "execution_count": 19,
   "metadata": {},
   "outputs": [],
   "source": [
    "import matplotlib.pyplot as plt\n",
    "import numpy as np\n"
   ]
  },
  {
   "cell_type": "code",
   "execution_count": 20,
   "metadata": {},
   "outputs": [
    {
     "data": {
      "image/png": "[encoded data removed]",
      "text/plain": [
       "<Figure size 432x288 with 1 Axes>"
      ]
     },
     "metadata": {
      "needs_background": "light"
     },
     "output_type": "display_data"
    },
    {
     "data": {
      "image/png": "[encoded data removed]",
      "text/plain": [
       "<Figure size 432x288 with 1 Axes>"
      ]
     },
     "metadata": {
      "needs_background": "light"
     },
     "output_type": "display_data"
    }
   ],
   "source": [
    "def f1(x1,x2):\n",
    "    return (x1*x1+x1*x2-10.)\n",
    "\n",
    "def f2(x1,x2):\n",
    "    return (x2+3*x1*x2*x2-57)\n",
    "\n",
    "x1list = np.linspace(0, 5, 101)\n",
    "x2list = np.linspace(0, 5, 101)\n",
    "\n",
    "f1test = f1(x1list, x2list[30])\n",
    "plt.plot(x1list, f1test)\n",
    "f1test = f1(x1list, x2list[70])\n",
    "plt.plot(x1list, f1test)\n",
    "plt.axhline(y = 0, c = \"r\")\n",
    "plt.show()\n",
    "\n",
    "f1test = f1(x1list[35], x2list)\n",
    "plt.plot(x1list, f1test)\n",
    "f1test = f1(x1list[60], x2list)\n",
    "plt.plot(x1list, f1test)\n",
    "plt.axhline(y = 0, c = \"r\")\n",
    "plt.show()"
   ]
  },
  {
   "cell_type": "code",
   "execution_count": 21,
   "metadata": {},
   "outputs": [],
   "source": [
    "def f1x1(x1,x2):\n",
    "    dx = 1.e-6\n",
    "    return (f1(x1+dx/2., x2) - f1(x1-dx/2., x2))/dx\n",
    "\n",
    "def f1x2(x1,x2):\n",
    "    dx = 1.e-6\n",
    "    return (f1(x1, x2+dx/2.) - f1(x1, x2-dx/2.))/dx\n",
    "    \n",
    "def f2x1(x1,x2):\n",
    "    dx = 1.e-6\n",
    "    return (f2(x1+dx/2., x2) - f2(x1-dx/2., x2))/dx\n",
    "    \n",
    "def f2x2(x1,x2):\n",
    "    dx = 1.e-6\n",
    "    return (f2(x1, x2+dx/2.) - f2(x1, x2-dx/2.))/dx\n",
    "    \n",
    "def dx1(f1,f2,f1x1,f1x2,f2x1,f2x2,x1,x2):\n",
    "    return (f1x2(x1,x2)*f2(x1,x2) - f2x2(x1,x2)*f1(x1,x2))/(f1x1(x1,x2)*f2x2(x1,x2) - f2x1(x1,x2)*f1x2(x1,x2))\n",
    "\n",
    "def dx2(f1,f2,f1x1,f1x2,f2x1,f2x2,x1,x2):\n",
    "    return (f2x1(x1,x2)*f1(x1,x2) - f1x1(x1,x2)*f2(x1,x2))/(f1x1(x1,x2)*f2x2(x1,x2) - f2x1(x1,x2)*f1x2(x1,x2))\n"
   ]
  },
  {
   "cell_type": "code",
   "execution_count": 22,
   "metadata": {},
   "outputs": [
    {
     "name": "stdout",
     "output_type": "stream",
     "text": [
      "after  4 iterations\n",
      "2.0000000000000733 3.0000000000000013\n",
      "5.151434834260726e-13 2.0250467969162855e-12\n"
     ]
    }
   ],
   "source": [
    "#initial guess \n",
    "x1 = 0.1\n",
    "x2 = 4.2\n",
    "\n",
    "NMAX = 100\n",
    "eps = 1e-8\n",
    "for i in range(NMAX):\n",
    "    x1 = x1 + dx1(f1,f2,f1x1,f1x2,f2x1,f2x2,x1,x2)\n",
    "    x2 = x2 + dx2(f1,f2,f1x1,f1x2,f2x1,f2x2,x1,x2)\n",
    "    if abs(f1(x1,x2))<eps and abs(f2(x1,x2))<eps:\n",
    "        print(\"after \", i, \"iterations\")\n",
    "        print(x1, x2)\n",
    "        print(f1(x1, x2), f2(x1, x2))\n",
    "        break"
   ]
  },
  {
   "cell_type": "code",
   "execution_count": 23,
   "metadata": {},
   "outputs": [],
   "source": [
    "def f1x1(x1,x2):\n",
    "    return 2*x1+x2\n",
    "\n",
    "def f1x2(x1,x2):\n",
    "    return x1\n",
    "    \n",
    "def f2x1(x1,x2):\n",
    "    return 3*x2*x2\n",
    "    \n",
    "def f2x2(x1,x2):\n",
    "    return 1.+6.*x1*x2\n",
    "    \n",
    "def dx1(f1,f2,f1x1,f1x2,f2x1,f2x2,x1,x2):\n",
    "    return (f1x2(x1,x2)*f2(x1,x2) - f2x2(x1,x2)*f1(x1,x2))/(f1x1(x1,x2)*f2x2(x1,x2) - f2x1(x1,x2)*f1x2(x1,x2))\n",
    "\n",
    "def dx2(f1,f2,f1x1,f1x2,f2x1,f2x2,x1,x2):\n",
    "    return (f2x1(x1,x2)*f1(x1,x2) - f1x1(x1,x2)*f2(x1,x2))/(f1x1(x1,x2)*f2x2(x1,x2) - f2x1(x1,x2)*f1x2(x1,x2))"
   ]
  },
  {
   "cell_type": "code",
   "execution_count": 24,
   "metadata": {},
   "outputs": [
    {
     "name": "stdout",
     "output_type": "stream",
     "text": [
      "after  4 iterations\n",
      "2.0000000000000733 3.0000000000000013\n",
      "5.151434834260726e-13 2.0250467969162855e-12\n"
     ]
    }
   ],
   "source": [
    "#initial guess \n",
    "x1 = 0.1\n",
    "x2 = 4.2\n",
    "\n",
    "NMAX = 100\n",
    "eps = 1e-8\n",
    "for i in range(NMAX):\n",
    "    x1 = x1 + dx1(f1,f2,f1x1,f1x2,f2x1,f2x2,x1,x2)\n",
    "    x2 = x2 + dx2(f1,f2,f1x1,f1x2,f2x1,f2x2,x1,x2)\n",
    "    if abs(f1(x1,x2))<eps and abs(f2(x1,x2))<eps:\n",
    "        print(\"after \", i, \"iterations\")\n",
    "        print(x1, x2)\n",
    "        print(f1(x1, x2), f2(x1, x2))\n",
    "        break"
   ]
  },
  {
   "cell_type": "code",
   "execution_count": 25,
   "metadata": {},
   "outputs": [],
   "source": [
    "def f1x1(x1,x2):\n",
    "    dx = 1.e-6\n",
    "    return (f1(x1+dx/2., x2) - f1(x1-dx/2., x2))/dx\n",
    "\n",
    "def f1x2(x1,x2):\n",
    "    dx = 1.e-6\n",
    "    return (f1(x1, x2+dx/2.) - f1(x1, x2-dx/2.))/dx\n",
    "    \n",
    "def f2x1(x1,x2):\n",
    "    dx = 1.e-6\n",
    "    return (f2(x1+dx/2., x2) - f2(x1-dx/2., x2))/dx\n",
    "    \n",
    "def f2x2(x1,x2):\n",
    "    dx = 1.e-6\n",
    "    return (f2(x1, x2+dx/2.) - f2(x1, x2-dx/2.))/dx\n",
    "\n",
    "def Jacobin(x1, x2):\n",
    "    return np.array([[f1x1(x1,x2), f1x2(x1,x2)],\n",
    "                     [f2x1(x1,x2), f2x2(x1,x2)]])"
   ]
  },
  {
   "cell_type": "code",
   "execution_count": 26,
   "metadata": {},
   "outputs": [
    {
     "name": "stdout",
     "output_type": "stream",
     "text": [
      "after  4 iterations\n",
      "[2. 3.]\n",
      "3.1102231901058985e-11 3.723314989656501e-10\n"
     ]
    }
   ],
   "source": [
    "#initial guess \n",
    "x = np.array([0.1, 4.2])\n",
    "\n",
    "NMAX = 100\n",
    "eps = 1e-8\n",
    "for i in range(NMAX):\n",
    "    A = Jacobin(x1, x2)\n",
    "    y = np.array([-f1(x[0], x[1]), -f2(x[0], x[1])])\n",
    "    x = x + np.linalg.solve(A, y)\n",
    "    if abs(f1(x[0], x[1]))<eps and abs(f2(x[0], x[1]))<eps:\n",
    "        print(\"after \", i, \"iterations\")\n",
    "        print(x)\n",
    "        print(f1(x[0], x[1]), f2(x[0], x[1]))\n",
    "        break"
   ]
  },
  {
   "cell_type": "code",
   "execution_count": null,
   "metadata": {},
   "outputs": [],
   "source": []
  }
 ],
 "metadata": {
  "kernelspec": {
   "display_name": "Python 3",
   "language": "python",
   "name": "python3"
  },
  "language_info": {
   "codemirror_mode": {
    "name": "ipython",
    "version": 3
   },
   "file_extension": ".py",
   "mimetype": "text/x-python",
   "name": "python",
   "nbconvert_exporter": "python",
   "pygments_lexer": "ipython3",
   "version": "3.8.3"
  }
 },
 "nbformat": 4,
 "nbformat_minor": 4
}
