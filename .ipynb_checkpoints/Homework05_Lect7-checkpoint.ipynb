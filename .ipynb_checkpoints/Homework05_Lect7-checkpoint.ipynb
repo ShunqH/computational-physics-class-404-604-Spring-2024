{
 "cells": [
  {
   "cell_type": "code",
   "execution_count": 1,
   "metadata": {},
   "outputs": [],
   "source": [
    "# Homework (due on 25th):\n",
    "# A person throws a ball upwards at a speed of 10 m/s, please calculate the trajectory using Runge-Kutta method\n",
    "# and plot height (z) vs time (t).\n"
   ]
  },
  {
   "cell_type": "markdown",
   "metadata": {},
   "source": [
    "\\begin{equation}\n",
    "\\begin{aligned}\n",
    "\\frac{dz(t)}{dt} &= v(t) \\\\\n",
    "\\frac{dv(t)}{dt} &= g  \\\\\n",
    "g &= -9.81m/s^2\n",
    "\\end{aligned}\n",
    "\\end{equation}"
   ]
  },
  {
   "cell_type": "code",
   "execution_count": 2,
   "metadata": {},
   "outputs": [],
   "source": [
    "import numpy as np\n",
    "import matplotlib.pyplot as plt"
   ]
  },
  {
   "cell_type": "code",
   "execution_count": 3,
   "metadata": {},
   "outputs": [],
   "source": [
    "def rk4(t, h, y, n):\n",
    "    k1 = np.zeros(n)\n",
    "    k2 = np.zeros(n)\n",
    "    k3 = np.zeros(n)\n",
    "    k4 = np.zeros(n)\n",
    "    k1=h*f(t,y)\n",
    "    k2=h*f(t+0.5*h, y+0.5*k1)\n",
    "    k3= h*f(t+0.5*h, y+0.5*k2) \n",
    "    k4= h*f(t+h, y+k3) \n",
    "    y = y + (1./6.)*(k1 + 2.*k2 + 2.*k3 + k4) \n",
    "    return y\n",
    "\n",
    "def f(t, y):\n",
    "    f=np.zeros(2)\n",
    "    f[0] = y[1]\n",
    "    f[1] = g\n",
    "    return f"
   ]
  },
  {
   "cell_type": "code",
   "execution_count": 4,
   "metadata": {},
   "outputs": [
    {
     "data": {
      "image/png": "[encoded data removed]",
      "text/plain": [
       "<Figure size 576x432 with 1 Axes>"
      ]
     },
     "metadata": {
      "needs_background": "light"
     },
     "output_type": "display_data"
    }
   ],
   "source": [
    "g = -9.81\n",
    "h=0.001\n",
    "tmax = 2.\n",
    "t = 0\n",
    "y = [0, 10.]\n",
    "\n",
    "\n",
    "tlist = []\n",
    "zlist = []\n",
    "vzlist = []\n",
    "while(t<tmax):\n",
    "    if((t+h)>tmax):\n",
    "        h=tmax-t\n",
    "    y = rk4(t, h, y, 2)\n",
    "    tlist=np.append(tlist, t)\n",
    "    zlist=np.append(zlist, y[0])\n",
    "    vzlist=np.append(vzlist, y[1])\n",
    "    #print(t, y)\n",
    "    t = t+h\n",
    "    \n",
    "plt.figure(figsize = (8,6))\n",
    "plt.plot(tlist, zlist)\n",
    "plt.xlabel(\"t\", fontsize = 15)\n",
    "plt.ylabel(\"z\", fontsize = 15)\n",
    "plt.show()"
   ]
  },
  {
   "cell_type": "code",
   "execution_count": 5,
   "metadata": {},
   "outputs": [
    {
     "name": "stdout",
     "output_type": "stream",
     "text": [
      "0.37999999999913076\n",
      "0.379999999999999\n"
     ]
    }
   ],
   "source": [
    "print(zlist[-1])\n",
    "v0 = 10.\n",
    "g = -9.81\n",
    "zend = v0*tmax + 0.5*g*tmax*tmax\n",
    "print(zend)"
   ]
  },
  {
   "cell_type": "code",
   "execution_count": 6,
   "metadata": {},
   "outputs": [
    {
     "name": "stdout",
     "output_type": "stream",
     "text": [
      "0.3799999999999993\n"
     ]
    }
   ],
   "source": [
    "#simpson\n",
    "def Integrate(function_list, x1, x2):\n",
    "    n = len(function_list)\n",
    "    if n%2 == 0:\n",
    "        print(\"error: n is not odd.\")\n",
    "        return 0\n",
    "    integ = function_list[0] + function_list[-1]\n",
    "    for k in range(1,n-1):\n",
    "        if k%2 == 0:\n",
    "            integ = integ + 2*function_list[k]\n",
    "        else:\n",
    "            integ = integ + 4*function_list[k]\n",
    "    integ = integ*((x2-x1)/(3*(n-1)))\n",
    "    return integ\n",
    "\n",
    "tlist = np.linspace(0, tmax, 101)\n",
    "vlist = v0 + g*tlist\n",
    "z = Integrate(vlist, tlist[0], tlist[-1])\n",
    "print(z)"
   ]
  },
  {
   "cell_type": "code",
   "execution_count": null,
   "metadata": {},
   "outputs": [],
   "source": []
  }
 ],
 "metadata": {
  "kernelspec": {
   "display_name": "Python 3",
   "language": "python",
   "name": "python3"
  },
  "language_info": {
   "codemirror_mode": {
    "name": "ipython",
    "version": 3
   },
   "file_extension": ".py",
   "mimetype": "text/x-python",
   "name": "python",
   "nbconvert_exporter": "python",
   "pygments_lexer": "ipython3",
   "version": "3.8.3"
  }
 },
 "nbformat": 4,
 "nbformat_minor": 4
}
